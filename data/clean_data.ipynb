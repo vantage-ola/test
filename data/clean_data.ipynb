{
 "cells": [
  {
   "cell_type": "code",
   "execution_count": 1,
   "id": "f81aa6c8-a39b-4883-bfe1-66c7a615fcb5",
   "metadata": {},
   "outputs": [],
   "source": [
    "import pandas as pd\n",
    "\n",
    "file_path = \"./dataset/dataset.csv\""
   ]
  },
  {
   "cell_type": "code",
   "execution_count": 2,
   "id": "8fc7c0d9-3089-4b8b-8518-09fa85782cba",
   "metadata": {},
   "outputs": [
    {
     "name": "stdout",
     "output_type": "stream",
     "text": [
      "<class 'pandas.core.frame.DataFrame'>\n",
      "RangeIndex: 541909 entries, 0 to 541908\n",
      "Data columns (total 8 columns):\n",
      " #   Column       Non-Null Count   Dtype \n",
      "---  ------       --------------   ----- \n",
      " 0   InvoiceNo    541909 non-null  object\n",
      " 1   StockCode    541909 non-null  object\n",
      " 2   Description  540884 non-null  object\n",
      " 3   Quantity     541909 non-null  object\n",
      " 4   InvoiceDate  541909 non-null  object\n",
      " 5   UnitPrice    541909 non-null  object\n",
      " 6   CustomerID   433909 non-null  object\n",
      " 7   Country      541909 non-null  object\n",
      "dtypes: object(8)\n",
      "memory usage: 33.1+ MB\n"
     ]
    },
    {
     "data": {
      "text/plain": [
       "(None,\n",
       "   InvoiceNo StockCode                           Description Quantity  \\\n",
       " 0    536365    85123A    WHITE HANGING HEART T-LIGHT HOLDER        6   \n",
       " 1    536365     71053                   WHITE METAL LANTERN        6   \n",
       " 2    536365  ö84406B^        CREAM CUPID HEARTS COAT HANGER        8   \n",
       " 3    536365    84029G  $KNITTED UNION FLAG HOT WATER BOTTLE       6@   \n",
       " 4    536365    84029E       $RED WOOLLY HOTTIE WHITE HEART.       6@   \n",
       " \n",
       "            InvoiceDate UnitPrice CustomerID              Country  \n",
       " 0  2010-12-01 08:26:00      2.55    17850.0  XxYUnited Kingdom☺️  \n",
       " 1  2010-12-01 08:26:00      3.39    17850.0       United Kingdom  \n",
       " 2  2010-12-01 08:26:00      2.75  &17850.0#  XxYUnited Kingdom☺️  \n",
       " 3  2010-12-01 08:26:00      3.39    17850.0       United Kingdom  \n",
       " 4  2010-12-01 08:26:00      3.39  &17850.0#       United Kingdom  )"
      ]
     },
     "execution_count": 2,
     "metadata": {},
     "output_type": "execute_result"
    }
   ],
   "source": [
    "df = pd.read_csv(file_path)\n",
    "\n",
    "# understand the structure\n",
    "df.info(), df.head()"
   ]
  },
  {
   "cell_type": "code",
   "execution_count": 3,
   "id": "f45d5f69-f2f1-40b8-9613-c8f8357af76b",
   "metadata": {},
   "outputs": [],
   "source": [
    "# country and quantity is messed up"
   ]
  },
  {
   "cell_type": "code",
   "execution_count": 4,
   "id": "de1aea1a-712c-4ab4-9c2a-5654f9d9ac3c",
   "metadata": {},
   "outputs": [],
   "source": [
    "# step 2\n",
    "import numpy as np\n",
    "\n",
    "# Remove duplicates\n",
    "df_cleaned = df.drop_duplicates()\n",
    "\n",
    "# Handle missing values\n",
    "df_cleaned = df_cleaned.dropna(subset=['Description'])  # Remove rows where Description is missing\n",
    "\n",
    "# Convert data types\n",
    "df_cleaned['Quantity'] = pd.to_numeric(df_cleaned['Quantity'], errors='coerce')  # Convert to integer\n",
    "df_cleaned['UnitPrice'] = pd.to_numeric(df_cleaned['UnitPrice'], errors='coerce')  # Convert to float\n",
    "df_cleaned['CustomerID'] = pd.to_numeric(df_cleaned['CustomerID'], errors='coerce')  # Convert to float\n",
    "\n",
    "# Convert InvoiceDate to datetime\n",
    "df_cleaned['InvoiceDate'] = pd.to_datetime(df_cleaned['InvoiceDate'], errors='coerce')\n",
    "\n",
    "# Standardize Description (lowercase, remove special characters)\n",
    "df_cleaned['Description'] = df_cleaned['Description'].str.lower().str.replace(r'[^a-z0-9\\s]', '', regex=True)\n",
    "\n",
    "# Clean Country column (remove unusual characters)\n",
    "df_cleaned['Country'] = df_cleaned['Country'].str.replace(r'[^a-zA-Z\\s]', '', regex=True).str.strip()\n",
    "\n",
    "# Clean StockCode column (remove special characters)\n",
    "df_cleaned['StockCode'] = df_cleaned['StockCode'].str.replace(r'[^a-zA-Z0-9]', '', regex=True)\n",
    "\n",
    "# Drop rows with missing critical numeric values after conversion\n",
    "df_cleaned = df_cleaned.dropna(subset=['Quantity', 'UnitPrice', 'CustomerID'])\n",
    "\n",
    "\n",
    "\n"
   ]
  },
  {
   "cell_type": "code",
   "execution_count": 5,
   "id": "e86f6d25-031d-47da-b1c5-f0177f502300",
   "metadata": {
    "scrolled": true
   },
   "outputs": [
    {
     "name": "stdout",
     "output_type": "stream",
     "text": [
      "<class 'pandas.core.frame.DataFrame'>\n",
      "Index: 155778 entries, 0 to 541905\n",
      "Data columns (total 8 columns):\n",
      " #   Column       Non-Null Count   Dtype         \n",
      "---  ------       --------------   -----         \n",
      " 0   InvoiceNo    155778 non-null  object        \n",
      " 1   StockCode    155778 non-null  object        \n",
      " 2   Description  155778 non-null  object        \n",
      " 3   Quantity     155778 non-null  float64       \n",
      " 4   InvoiceDate  155778 non-null  datetime64[ns]\n",
      " 5   UnitPrice    155778 non-null  float64       \n",
      " 6   CustomerID   155778 non-null  float64       \n",
      " 7   Country      155778 non-null  object        \n",
      "dtypes: datetime64[ns](1), float64(3), object(4)\n",
      "memory usage: 10.7+ MB\n"
     ]
    },
    {
     "data": {
      "text/plain": [
       "(None,\n",
       "   InvoiceNo StockCode                        Description  Quantity  \\\n",
       " 0    536365    85123A  white hanging heart tlight holder       6.0   \n",
       " 1    536365     71053                white metal lantern       6.0   \n",
       " 7   536366ä     22633             hand warmer union jack       6.0   \n",
       " 8   536366ä     22632          hand warmer red polka dot       6.0   \n",
       " 9   536367ä     84879      assorted colour bird ornament      32.0   \n",
       " \n",
       "           InvoiceDate  UnitPrice  CustomerID            Country  \n",
       " 0 2010-12-01 08:26:00       2.55     17850.0  XxYUnited Kingdom  \n",
       " 1 2010-12-01 08:26:00       3.39     17850.0     United Kingdom  \n",
       " 7 2010-12-01 08:28:00       1.85     17850.0     United Kingdom  \n",
       " 8 2010-12-01 08:28:00       1.85     17850.0  XxYUnited Kingdom  \n",
       " 9 2010-12-01 08:34:00       1.69     13047.0  XxYUnited Kingdom  )"
      ]
     },
     "execution_count": 5,
     "metadata": {},
     "output_type": "execute_result"
    }
   ],
   "source": [
    "df_cleaned.info(), df_cleaned.head()"
   ]
  },
  {
   "cell_type": "code",
   "execution_count": 7,
   "id": "0655d68a-4270-44d0-8d3c-5a146b3e3d48",
   "metadata": {},
   "outputs": [
    {
     "data": {
      "text/html": [
       "<div>\n",
       "<style scoped>\n",
       "    .dataframe tbody tr th:only-of-type {\n",
       "        vertical-align: middle;\n",
       "    }\n",
       "\n",
       "    .dataframe tbody tr th {\n",
       "        vertical-align: top;\n",
       "    }\n",
       "\n",
       "    .dataframe thead th {\n",
       "        text-align: right;\n",
       "    }\n",
       "</style>\n",
       "<table border=\"1\" class=\"dataframe\">\n",
       "  <thead>\n",
       "    <tr style=\"text-align: right;\">\n",
       "      <th></th>\n",
       "      <th>InvoiceNo</th>\n",
       "      <th>StockCode</th>\n",
       "      <th>Description</th>\n",
       "      <th>Quantity</th>\n",
       "      <th>InvoiceDate</th>\n",
       "      <th>UnitPrice</th>\n",
       "      <th>CustomerID</th>\n",
       "      <th>Country</th>\n",
       "    </tr>\n",
       "  </thead>\n",
       "  <tbody>\n",
       "    <tr>\n",
       "      <th>0</th>\n",
       "      <td>536365</td>\n",
       "      <td>85123A</td>\n",
       "      <td>white hanging heart tlight holder</td>\n",
       "      <td>6.0</td>\n",
       "      <td>2010-12-01 08:26:00</td>\n",
       "      <td>2.55</td>\n",
       "      <td>17850.0</td>\n",
       "      <td>United Kingdom</td>\n",
       "    </tr>\n",
       "    <tr>\n",
       "      <th>1</th>\n",
       "      <td>536365</td>\n",
       "      <td>71053</td>\n",
       "      <td>white metal lantern</td>\n",
       "      <td>6.0</td>\n",
       "      <td>2010-12-01 08:26:00</td>\n",
       "      <td>3.39</td>\n",
       "      <td>17850.0</td>\n",
       "      <td>United Kingdom</td>\n",
       "    </tr>\n",
       "    <tr>\n",
       "      <th>7</th>\n",
       "      <td>536366</td>\n",
       "      <td>22633</td>\n",
       "      <td>hand warmer union jack</td>\n",
       "      <td>6.0</td>\n",
       "      <td>2010-12-01 08:28:00</td>\n",
       "      <td>1.85</td>\n",
       "      <td>17850.0</td>\n",
       "      <td>United Kingdom</td>\n",
       "    </tr>\n",
       "    <tr>\n",
       "      <th>8</th>\n",
       "      <td>536366</td>\n",
       "      <td>22632</td>\n",
       "      <td>hand warmer red polka dot</td>\n",
       "      <td>6.0</td>\n",
       "      <td>2010-12-01 08:28:00</td>\n",
       "      <td>1.85</td>\n",
       "      <td>17850.0</td>\n",
       "      <td>United Kingdom</td>\n",
       "    </tr>\n",
       "    <tr>\n",
       "      <th>9</th>\n",
       "      <td>536367</td>\n",
       "      <td>84879</td>\n",
       "      <td>assorted colour bird ornament</td>\n",
       "      <td>32.0</td>\n",
       "      <td>2010-12-01 08:34:00</td>\n",
       "      <td>1.69</td>\n",
       "      <td>13047.0</td>\n",
       "      <td>United Kingdom</td>\n",
       "    </tr>\n",
       "  </tbody>\n",
       "</table>\n",
       "</div>"
      ],
      "text/plain": [
       "  InvoiceNo StockCode                        Description  Quantity  \\\n",
       "0    536365    85123A  white hanging heart tlight holder       6.0   \n",
       "1    536365     71053                white metal lantern       6.0   \n",
       "7    536366     22633             hand warmer union jack       6.0   \n",
       "8    536366     22632          hand warmer red polka dot       6.0   \n",
       "9    536367     84879      assorted colour bird ornament      32.0   \n",
       "\n",
       "          InvoiceDate  UnitPrice  CustomerID         Country  \n",
       "0 2010-12-01 08:26:00       2.55     17850.0  United Kingdom  \n",
       "1 2010-12-01 08:26:00       3.39     17850.0  United Kingdom  \n",
       "7 2010-12-01 08:28:00       1.85     17850.0  United Kingdom  \n",
       "8 2010-12-01 08:28:00       1.85     17850.0  United Kingdom  \n",
       "9 2010-12-01 08:34:00       1.69     13047.0  United Kingdom  "
      ]
     },
     "execution_count": 7,
     "metadata": {},
     "output_type": "execute_result"
    }
   ],
   "source": [
    "\n",
    "\n",
    "# Further clean Country column by removing unintended prefixes like \"XxY\"\n",
    "df_cleaned['Country'] = df_cleaned['Country'].str.replace(r'XxY', '', regex=True).str.strip()\n",
    "\n",
    "# Remove non-standard characters from InvoiceNo\n",
    "df_cleaned['InvoiceNo'] = df_cleaned['InvoiceNo'].str.replace(r'[^a-zA-Z0-9]', '', regex=True)\n",
    "\n",
    "# Save the final cleaned dataset\n",
    "final_cleaned_file_path = \"./dataset/cleaned_dataset.csv\"\n",
    "df_cleaned.to_csv(final_cleaned_file_path, index=False)\n",
    "\n",
    "# Display final sample\n",
    "df_cleaned.head()"
   ]
  },
  {
   "cell_type": "code",
   "execution_count": null,
   "id": "e6eb5fc3-9b1a-4096-8aff-d137bfcdadd0",
   "metadata": {},
   "outputs": [],
   "source": []
  }
 ],
 "metadata": {
  "kernelspec": {
   "display_name": "Python 3 (ipykernel)",
   "language": "python",
   "name": "python3"
  },
  "language_info": {
   "codemirror_mode": {
    "name": "ipython",
    "version": 3
   },
   "file_extension": ".py",
   "mimetype": "text/x-python",
   "name": "python",
   "nbconvert_exporter": "python",
   "pygments_lexer": "ipython3",
   "version": "3.12.3"
  }
 },
 "nbformat": 4,
 "nbformat_minor": 5
}
